{
 "cells": [
  {
   "cell_type": "markdown",
   "metadata": {},
   "source": [
    "## Data Exploration"
   ]
  },
  {
   "cell_type": "code",
   "execution_count": null,
   "metadata": {},
   "outputs": [],
   "source": [
    "import gzip\n",
    "import string\n",
    "from collections import defaultdict\n",
    "import numpy as np"
   ]
  },
  {
   "cell_type": "code",
   "execution_count": null,
   "metadata": {},
   "outputs": [],
   "source": [
    "def preprocess(x):\n",
    "    x = x.replace('\\t', ' ')\n",
    "    x = x.replace('\\n', ' ')\n",
    "    x = x.translate(str.maketrans('', '', string.punctuation)).lower()\n",
    "    return x.split(' ')"
   ]
  },
  {
   "cell_type": "code",
   "execution_count": null,
   "metadata": {},
   "outputs": [],
   "source": [
    "path = 'data/renttherunway_final_data.json.gz'\n",
    "\n",
    "userCount = defaultdict(int)\n",
    "itemCount = defaultdict(int)\n",
    "reviewLengths = []\n",
    "fitCount = defaultdict(int)\n",
    "ratingCount = defaultdict(int)\n",
    "\n",
    "with gzip.open(path) as f:\n",
    "    for line in f:\n",
    "        try:\n",
    "            line = eval(line)\n",
    "        except:\n",
    "            continue\n",
    "        user = line['user_id']\n",
    "        item = line['item_id']\n",
    "        rlen = len(preprocess(line['review_text'])) + len(preprocess(line['review_summary']))\n",
    "        userCount[user] += 1\n",
    "        itemCount[item] += 1\n",
    "        reviewLengths.append(rlen)\n",
    "        fitCount[line['fit']] += 1\n",
    "        rating = int(line['rating'])\n",
    "        ratingCount[rating] += 1"
   ]
  },
  {
   "cell_type": "code",
   "execution_count": null,
   "metadata": {},
   "outputs": [],
   "source": [
    "lengthCount = defaultdict(int)\n",
    "for rlen in reviewLengths:\n",
    "    lengthCount[rlen] += 1\n",
    "lengthCount = list(lengthCount.items())\n",
    "lengthCount.sort(key=lambda x: x[0])"
   ]
  },
  {
   "cell_type": "code",
   "execution_count": null,
   "metadata": {},
   "outputs": [],
   "source": [
    "import matplotlib.pyplot as plt\n",
    "plt.bar([x[0] for x in lengthCount if x[0] < 200], [x[1] for x in lengthCount if x[0] < 200])\n",
    "plt.xlabel('Number of words in review')\n",
    "plt.ylabel('Number of reviews')"
   ]
  },
  {
   "cell_type": "code",
   "execution_count": null,
   "metadata": {},
   "outputs": [],
   "source": [
    "userDist = defaultdict(int)\n",
    "for u, c in userCount.items():\n",
    "    userDist[c] += 1\n",
    "\n",
    "userDist = list(userDist.items())\n",
    "userDist.sort(key=lambda x: x[0])\n",
    "\n",
    "plt.bar([x[0] for x in userDist if x[0] < 8], [x[1] for x in userDist if x[0] < 8])\n",
    "plt.xlabel('Number of reviews per user')\n",
    "plt.ylabel('Number of users')\n",
    "np.percentile([x[1] for x in userCount.items()], [25, 50, 75])"
   ]
  },
  {
   "cell_type": "code",
   "execution_count": null,
   "metadata": {},
   "outputs": [],
   "source": [
    "itemDist = defaultdict(int)\n",
    "for u, c in itemCount.items():\n",
    "    itemDist[c] += 1\n",
    "\n",
    "itemDist = list(itemDist.items())\n",
    "itemDist.sort(key=lambda x: x[0])\n",
    "\n",
    "plt.bar([x[0] for x in itemDist if x[0] < 100], [x[1] for x in itemDist if x[0] < 100])\n",
    "plt.xlabel('Number of reviews per item')\n",
    "plt.ylabel('Number of item')\n",
    "np.percentile([x[1] for x in itemCount.items()], [25, 50, 75])"
   ]
  },
  {
   "cell_type": "code",
   "execution_count": null,
   "metadata": {},
   "outputs": [],
   "source": [
    "fitCount = fitCount.items()\n",
    "plt.bar([x[0] for x in fitCount], [x[1] for x in fitCount])\n",
    "plt.ylabel('Number of reviews')"
   ]
  },
  {
   "cell_type": "code",
   "execution_count": null,
   "metadata": {},
   "outputs": [],
   "source": [
    "ratingCount = ratingCount.items()\n",
    "plt.bar([x[0] for x in ratingCount], [x[1] for x in ratingCount])\n",
    "plt.xlabel('Rating')\n",
    "plt.ylabel('Number of reviews')"
   ]
  },
  {
   "cell_type": "code",
   "execution_count": null,
   "metadata": {},
   "outputs": [],
   "source": []
  },
  {
   "cell_type": "code",
   "execution_count": null,
   "metadata": {},
   "outputs": [],
   "source": [
    "print(f\"Number of users: {len(userCount)}\")\n",
    "print(f\"Number of items: {len(itemCount)}\")\n",
    "print(f\"Number of reivews: {len(reviewLengths)}\")\n",
    "np.percentile(reviewLengths, [25, 50, 75])"
   ]
  }
 ],
 "metadata": {
  "kernelspec": {
   "display_name": "base",
   "language": "python",
   "name": "python3"
  },
  "language_info": {
   "codemirror_mode": {
    "name": "ipython",
    "version": 3
   },
   "file_extension": ".py",
   "mimetype": "text/x-python",
   "name": "python",
   "nbconvert_exporter": "python",
   "pygments_lexer": "ipython3",
   "version": "3.11.5"
  }
 },
 "nbformat": 4,
 "nbformat_minor": 2
}
