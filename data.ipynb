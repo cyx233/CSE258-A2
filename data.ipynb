{
 "cells": [
  {
   "cell_type": "code",
   "execution_count": null,
   "metadata": {},
   "outputs": [],
   "source": [
    "from sklearn.feature_extraction.text import TfidfVectorizer\n",
    "from sklearn.feature_selection import SelectKBest, chi2, f_classif\n",
    "from collections import defaultdict\n",
    "import string\n",
    "import numpy as np\n",
    "import gzip\n",
    "import torch"
   ]
  },
  {
   "cell_type": "code",
   "execution_count": null,
   "metadata": {},
   "outputs": [],
   "source": [
    "def preprocess(x):\n",
    "    x = x.replace('\\t', ' ')\n",
    "    x = x.replace('\\n', ' ')\n",
    "    x = x.translate(str.maketrans('', '', string.punctuation)).lower()\n",
    "    return x"
   ]
  },
  {
   "cell_type": "code",
   "execution_count": null,
   "metadata": {},
   "outputs": [],
   "source": [
    "path = 'data/renttherunway_final_data.json.gz'\n",
    "\n",
    "text = []\n",
    "labels = []\n",
    "ratings = []\n",
    "with gzip.open(path) as f:\n",
    "    for line in f:\n",
    "        try:\n",
    "            line = eval(line)\n",
    "        except:\n",
    "            continue\n",
    "        review = preprocess(line['review_text'] + ' ' + line['review_summary'])\n",
    "        text.append(review)\n",
    "        labels.append(line['fit'])\n",
    "        ratings.append(int(line['rating']))"
   ]
  },
  {
   "cell_type": "code",
   "execution_count": null,
   "metadata": {},
   "outputs": [],
   "source": [
    "numReviews = len(labels)\n",
    "\n",
    "Xtrain, ytrain = text[:int(numReviews*0.8)], labels[:int(numReviews*0.8)]\n",
    "Xvalid, yvalid = text[int(numReviews*0.8):int(numReviews*0.9)], labels[int(numReviews*0.8):int(numReviews*0.9)]\n",
    "Xtest, ytest = text[int(numReviews*0.9):], labels[int(numReviews*0.9):]\n",
    "\n",
    "torch.save((Xtrain, ytrain, Xvalid, yvalid, Xtest, ytest), 'build/raw.pt')"
   ]
  },
  {
   "cell_type": "markdown",
   "metadata": {},
   "source": [
    "## Fit Classification"
   ]
  },
  {
   "cell_type": "code",
   "execution_count": null,
   "metadata": {},
   "outputs": [],
   "source": [
    "vectorizer = TfidfVectorizer(\n",
    "    ngram_range=(1, 2),\n",
    "    dtype='int32',\n",
    "    analyzer='word',\n",
    "    strip_accents='unicode',\n",
    "    decode_error='replace',\n",
    "    min_df=2\n",
    ")\n",
    "\n",
    "Xtrain_trans = vectorizer.fit_transform(Xtrain)\n",
    "Xvalid_trans = vectorizer.transform(Xvalid)\n",
    "Xtest_trans = vectorizer.transform(Xtest)"
   ]
  },
  {
   "cell_type": "code",
   "execution_count": null,
   "metadata": {},
   "outputs": [],
   "source": [
    "top = 1000\n",
    "selector = SelectKBest(f_classif, k=top)\n",
    "selector.fit(Xtrain_trans, ytrain)"
   ]
  },
  {
   "cell_type": "code",
   "execution_count": null,
   "metadata": {},
   "outputs": [],
   "source": [
    "Xtrain = selector.transform(Xtrain_trans).astype('float32')\n",
    "Xvalid = selector.transform(Xvalid_trans).astype('float32')\n",
    "Xtest = selector.transform(Xtest_trans).astype('float32')\n",
    "torch.save((Xtrain, ytrain, Xvalid, yvalid, Xtest, ytest), 'build/extracted.pt')"
   ]
  },
  {
   "cell_type": "markdown",
   "metadata": {},
   "source": [
    "## Rating Regression"
   ]
  },
  {
   "cell_type": "code",
   "execution_count": null,
   "metadata": {},
   "outputs": [],
   "source": [
    "numReviews = len(ratings)\n",
    "\n",
    "Xtrain, ytrain = text[:int(numReviews*0.8)], ratings[:int(numReviews*0.8)]\n",
    "Xvalid, yvalid = text[int(numReviews*0.8):int(numReviews*0.9)], ratings[int(numReviews*0.8):int(numReviews*0.9)]\n",
    "Xtest, ytest = text[int(numReviews*0.9):], ratings[int(numReviews*0.9):]"
   ]
  },
  {
   "cell_type": "code",
   "execution_count": null,
   "metadata": {},
   "outputs": [],
   "source": [
    "vectorizer = TfidfVectorizer(\n",
    "    ngram_range=(1, 2),\n",
    "    dtype='int32',\n",
    "    analyzer='word',\n",
    "    strip_accents='unicode',\n",
    "    decode_error='replace',\n",
    "    min_df=2\n",
    ")\n",
    "\n",
    "Xtrain_trans = vectorizer.fit_transform(Xtrain)\n",
    "Xvalid_trans = vectorizer.transform(Xvalid)\n",
    "Xtest_trans = vectorizer.transform(Xtest)"
   ]
  },
  {
   "cell_type": "code",
   "execution_count": null,
   "metadata": {},
   "outputs": [],
   "source": [
    "top = 1000\n",
    "selector = SelectKBest(f_classif, k=top)\n",
    "selector.fit(Xtrain_trans, ytrain)"
   ]
  },
  {
   "cell_type": "code",
   "execution_count": null,
   "metadata": {},
   "outputs": [],
   "source": [
    "Xtrain = selector.transform(Xtrain_trans).astype('float32')\n",
    "Xvalid = selector.transform(Xvalid_trans).astype('float32')\n",
    "Xtest = selector.transform(Xtest_trans).astype('float32')\n",
    "torch.save((Xtrain, ytrain, Xvalid, yvalid, Xtest, ytest), 'build/extracted+reg.pt')"
   ]
  }
 ],
 "metadata": {
  "kernelspec": {
   "display_name": "Python 3 (ipykernel)",
   "language": "python",
   "name": "python3"
  },
  "language_info": {
   "codemirror_mode": {
    "name": "ipython",
    "version": 3
   },
   "file_extension": ".py",
   "mimetype": "text/x-python",
   "name": "python",
   "nbconvert_exporter": "python",
   "pygments_lexer": "ipython3",
   "version": "3.11.5"
  }
 },
 "nbformat": 4,
 "nbformat_minor": 2
}
