{
 "cells": [
  {
   "cell_type": "code",
   "execution_count": null,
   "metadata": {},
   "outputs": [],
   "source": [
    "from sklearn.feature_extraction.text import TfidfVectorizer\n",
    "from sklearn.feature_selection import SelectKBest, chi2\n",
    "import string\n",
    "import numpy as np\n",
    "import torch"
   ]
  },
  {
   "cell_type": "code",
   "execution_count": null,
   "metadata": {},
   "outputs": [],
   "source": [
    "def preprocess(x):\n",
    "    x = x.replace('\\t', ' ')\n",
    "    x = x.replace('\\n', ' ')\n",
    "    x = x.translate(str.maketrans('', '', string.punctuation)).lower()\n",
    "    return x"
   ]
  },
  {
   "cell_type": "code",
   "execution_count": null,
   "metadata": {},
   "outputs": [],
   "source": [
    "validGenres = ['Indie', 'Action', 'Casual', 'Adventure', 'Strategy', 'Simulation', 'RPG', 'Sports', 'Massively Multiplayer', 'Racing']\n",
    "itemGenres = {}\n",
    "with open('data/steam_games.json') as f:\n",
    "    for line in f:\n",
    "        line = eval(line)\n",
    "        if 'genres' not in line or 'id' not in line:\n",
    "            continue\n",
    "        genres = [x for x in validGenres if x in line['genres']]\n",
    "        if len(genres) == 0:\n",
    "            continue\n",
    "        itemGenres[line['id']] = genres"
   ]
  },
  {
   "cell_type": "code",
   "execution_count": null,
   "metadata": {},
   "outputs": [],
   "source": [
    "text = []\n",
    "labels = []\n",
    "with open('data/steam_reviews.json') as f:\n",
    "    for line in f:\n",
    "        line = eval(line)\n",
    "        item = line['product_id']\n",
    "        if item not in itemGenres:\n",
    "            continue\n",
    "        text.append(preprocess(line['text']))\n",
    "        labels.append(itemGenres[item])"
   ]
  },
  {
   "cell_type": "code",
   "execution_count": null,
   "metadata": {},
   "outputs": [],
   "source": [
    "numReviews = len(labels)\n",
    "\n",
    "Xtrain, ytrain = text[:int(numReviews*0.8)], labels[:int(numReviews*0.8)]\n",
    "Xvalid, yvalid = text[int(numReviews*0.8):int(numReviews*0.9)], labels[int(numReviews*0.8):int(numReviews*0.9)]\n",
    "Xtest, ytest = text[int(numReviews*0.9):], labels[int(numReviews*0.9):]\n",
    "\n",
    "torch.save((Xtrain, ytrain, Xvalid, yvalid, Xtest, ytest), 'build/raw.pt')"
   ]
  },
  {
   "cell_type": "code",
   "execution_count": null,
   "metadata": {},
   "outputs": [],
   "source": [
    "vectorizer = TfidfVectorizer(\n",
    "    ngram_range=(1, 1),\n",
    "    dtype='int32',\n",
    "    analyzer='word',\n",
    "    strip_accents='unicode',\n",
    "    decode_error='replace',\n",
    "    min_df=2\n",
    ")\n",
    "\n",
    "Xtrain_trans = vectorizer.fit_transform(Xtrain)\n",
    "Xvalid_trans = vectorizer.transform(Xvalid)\n",
    "Xtest_trans = vectorizer.transform(Xtest)"
   ]
  },
  {
   "cell_type": "code",
   "execution_count": null,
   "metadata": {},
   "outputs": [],
   "source": [
    "scores = []\n",
    "for g in validGenres:\n",
    "    selector = SelectKBest(chi2, k='all')\n",
    "    y = [(g in x) for x in ytrain]\n",
    "    selector.fit(Xtrain_trans, y)\n",
    "    scores.append(list(selector.scores_))\n",
    "\n",
    "s = np.max(scores, axis=0)\n",
    "thresh = np.percentile(s, (1 - 20000/s.shape[0])*100)"
   ]
  },
  {
   "cell_type": "code",
   "execution_count": null,
   "metadata": {},
   "outputs": [],
   "source": [
    "Xtrain = Xtrain_trans[:, s > thresh]\n",
    "Xvalid = Xvalid_trans[:, s > thresh]\n",
    "Xtest = Xtest_trans[:, s > thresh]\n",
    "torch.save((Xtrain, ytrain, Xvalid, yvalid, Xtest, ytest), 'build/extracted.pt')"
   ]
  }
 ],
 "metadata": {
  "kernelspec": {
   "display_name": "Python 3 (ipykernel)",
   "language": "python",
   "name": "python3"
  },
  "language_info": {
   "codemirror_mode": {
    "name": "ipython",
    "version": 3
   },
   "file_extension": ".py",
   "mimetype": "text/x-python",
   "name": "python",
   "nbconvert_exporter": "python",
   "pygments_lexer": "ipython3",
   "version": "3.11.5"
  }
 },
 "nbformat": 4,
 "nbformat_minor": 2
}
